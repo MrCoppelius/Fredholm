{
 "cells": [
  {
   "cell_type": "code",
   "execution_count": 38,
   "metadata": {},
   "outputs": [
    {
     "name": "stdout",
     "output_type": "stream",
     "text": [
      "High five! You successfully sent some data to your account on plotly. View your plot in your browser at https://plot.ly/~Coppelius/0 or inside your plot.ly account where it is named 'basic-line'\n"
     ]
    },
    {
     "data": {
      "text/html": [
       "<iframe id=\"igraph\" scrolling=\"no\" style=\"border:none;\" seamless=\"seamless\" src=\"https://plot.ly/~Coppelius/0.embed\" height=\"525px\" width=\"100%\"></iframe>"
      ],
      "text/plain": [
       "<plotly.tools.PlotlyDisplay object>"
      ]
     },
     "execution_count": 38,
     "metadata": {},
     "output_type": "execute_result"
    }
   ],
   "source": [
    "import math\n",
    "import numpy as np\n",
    "import matplotlib.pyplot as plt\n",
    "import plotly\n",
    "import plotly.plotly as py\n",
    "import plotly.graph_objs as go\n",
    "\n",
    "\n",
    "def pivotize(m):\n",
    "    n = len(m)\n",
    "    ID = [[float(i == j) for i in range(n)] for j in range(n)]\n",
    "    for j in range(n):\n",
    "        row = max(range(j, n), key=lambda i: abs(m[i][j]))\n",
    "        if j != row:\n",
    "            ID[j], ID[row] = ID[row], ID[j]\n",
    "    return ID\n",
    "\n",
    "\n",
    "def SolveSystem(A, b):\n",
    "    L, U, P = LUP(A)\n",
    "    b = np.matmul(P,b)\n",
    "    n = A.shape[0]\n",
    "    y = np.zeros(n)\n",
    "    for i in range(n):\n",
    "        y[i] = b[i] - sum(L[i][k]*y[k] for k in range(i))\n",
    "    x = np.zeros(n)\n",
    "    for i in range(n-1,-1,-1):\n",
    "        x[i] = (y[i] - sum(U[i][k]*x[k] for k in range(i+1,n)))/U[i][i]\n",
    "    return x\n",
    "        \n",
    "    \n",
    "    \n",
    "    \n",
    "def LUP(A):\n",
    "    n = A.shape[0]\n",
    "    L = np.zeros((n,n))\n",
    "    U = np.zeros((n,n))\n",
    "    P = pivotize(A)\n",
    "    A2 = np.matmul(P, A)\n",
    "    for j in range(n):\n",
    "        L[j][j] = 1\n",
    "        for i in range(j+1):\n",
    "            s1 = sum(U[k][j] * L[i][k] for k in range(i))\n",
    "            U[i][j] = A2[i][j] - s1\n",
    "        for i in range(j, n):\n",
    "            s2 = sum(U[k][j] * L[i][k] for k in range(j))\n",
    "            L[i][j] = (A2[i][j] - s2) / U[j][j]\n",
    "   \n",
    "    return L, U, P\n",
    "\n",
    "\n",
    "def RectangleMethod(x, xi, K, h):\n",
    "    n = len(x)\n",
    "    coeff = np.zeros(n)\n",
    "    for i in range(n-1):\n",
    "        coeff[i] = h * K(xi, (x[i] + x[i+1])/2)\n",
    "    return coeff\n",
    "\n",
    "def TrapezoidMethod(x, xi, K, h):\n",
    "    n = len(x)\n",
    "    coeff = np.zeros(n)\n",
    "    coeff[0] = h/2 * K(xi, x[0])\n",
    "    coeff[n-1] = h/2 * K(xi, x[n-1])\n",
    "    for i in range(1,n-1):\n",
    "        coeff[i] = h * K(xi, x[i])\n",
    "    return coeff\n",
    "\n",
    "def SimpsonMethod(x, xi, K, h):\n",
    "    n = len(x)\n",
    "    coeff = np.zeros(n)\n",
    "    coeff[0] = h/3 * K(xi, x[0])\n",
    "    coeff[n-1] = h/3 * K(xi, x[n-1])\n",
    "    for i in range(1,n-1):\n",
    "        coeff[i] = h/3 * K(xi, x[i]) * (4 if i % 2 == 1 else 2)\n",
    "    return coeff\n",
    "\n",
    "\n",
    "\n",
    "\n",
    "def FredgolmSolve(quadFun, h, lmd, K, f, rngx,  kind):\n",
    "    x = [x for x in np.arange(rngx[0], rngx[1] + h, h)]\n",
    "    n = len(x)\n",
    "    coeff = np.zeros((n,n))\n",
    "    fi = np.zeros(n)\n",
    "    for i in range(n):\n",
    "        coeff[i] =  lmd * quadFun(x, x[i], K, h)\n",
    "        if (kind == 2):\n",
    "            coeff[i][i] += 1\n",
    "        fi[i] = f(x[i])\n",
    "    return x, SolveSystem(coeff, fi) \n",
    "\n",
    "\n",
    "exactSolve = lambda x: x\n",
    "K = lambda x,s: x * s\n",
    "f = lambda x: 5/6 * x\n",
    "lmd = -1/2\n",
    "rngx = [0,1]\n",
    "h = 0.01\n",
    "kind = 2\n",
    "xi, ui =  FredgolmSolve(SimpsonMethod,h, lmd, K, f, rngx, kind)\n",
    "yi = np.array([exactSolve(xi[i]) for i in range(len(xi))]  )           \n",
    "trace0 = go.Scatter(\n",
    "    x=xi,\n",
    "    y=ui,\n",
    "    mode='markers',\n",
    "    name='Approx solve',\n",
    "    marker = dict(\n",
    "        size = 4)\n",
    " \n",
    ")\n",
    "trace1 = go.Scatter(\n",
    "    x=xi ,\n",
    "    y=yi,\n",
    "    name='Exact solve',\n",
    "    mode = 'lines'\n",
    ")\n",
    "\n",
    "\n",
    "data = [trace1, trace0]\n",
    "\n",
    "py.iplot(data, filename = 'basic-line')\n",
    "    \n"
   ]
  },
  {
   "cell_type": "code",
   "execution_count": 42,
   "metadata": {},
   "outputs": [
    {
     "data": {
      "text/html": [
       "<iframe id=\"igraph\" scrolling=\"no\" style=\"border:none;\" seamless=\"seamless\" src=\"https://plot.ly/~Coppelius/6.embed\" height=\"800px\" width=\"950px\"></iframe>"
      ],
      "text/plain": [
       "<plotly.tools.PlotlyDisplay object>"
      ]
     },
     "execution_count": 42,
     "metadata": {},
     "output_type": "execute_result"
    }
   ],
   "source": [
    "trace1 = go.Table(\n",
    "    header=dict(values=['k', 'x', 'Approximate solution','Exact solution', 'eps compare with exact solution' ]),\n",
    "    cells=dict(values=[[i for i in range(len(xi))],\n",
    "                       xi,\n",
    "                       ui,\n",
    "                       yi,\n",
    "                       abs(yi - ui)]))\n",
    "                       \n",
    "\n",
    "\n",
    "layout1 = dict(width=950, height=800, title='Eiler method')\n",
    "fig = dict(data=[trace1], layout = layout1 )\n",
    "py.iplot(fig, filename='table')"
   ]
  },
  {
   "cell_type": "code",
   "execution_count": null,
   "metadata": {},
   "outputs": [],
   "source": []
  }
 ],
 "metadata": {
  "kernelspec": {
   "display_name": "Python 3",
   "language": "python",
   "name": "python3"
  },
  "language_info": {
   "codemirror_mode": {
    "name": "ipython",
    "version": 3
   },
   "file_extension": ".py",
   "mimetype": "text/x-python",
   "name": "python",
   "nbconvert_exporter": "python",
   "pygments_lexer": "ipython3",
   "version": "3.6.4"
  }
 },
 "nbformat": 4,
 "nbformat_minor": 2
}
